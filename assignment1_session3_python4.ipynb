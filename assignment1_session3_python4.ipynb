{
 "cells": [
  {
   "cell_type": "markdown",
   "metadata": {},
   "source": [
    "1.1 Write a Python Program(with class concepts) to find the area of the triangle using the below formula. \n",
    "area = (s*(s-a)*(s-b)*(s-c)) ** 0.5 \n",
    "Function to take the length of the sides of triangle from user should be defined in the parent class and function to calculate the area should be defined in subclass. \n"
   ]
  },
  {
   "cell_type": "code",
   "execution_count": 1,
   "metadata": {},
   "outputs": [
    {
     "name": "stdout",
     "output_type": "stream",
     "text": [
      "Enter length of side 1 : 4\n",
      "Enter length of side 2 : 5\n",
      "Enter length of side 3 : 6\n",
      "The area of the triangle is 9.92\n"
     ]
    }
   ],
   "source": [
    "#Soln:\n",
    "class BaseClass():\n",
    "    def __init__(self, totalSides):\n",
    "        self.totalSides = totalSides\n",
    "\n",
    "    def inputSides(self):\n",
    "        self.sides = [float(input(\"Enter length of side \"+str(i+1)+\" : \")) for i in range(self.totalSides)]\n",
    "            \n",
    "class Triangle(BaseClass):\n",
    "    def __init__(self, totalSides):\n",
    "        BaseClass.__init__(self,totalSides)\n",
    "\n",
    "    def findArea(self):\n",
    "        side1, side2, side3 = self.sides\n",
    "        # calculate the semi-perimeter\n",
    "        semi_perimeter = (side1 + side2 + side3) / 2\n",
    "        area = (semi_perimeter*(semi_perimeter-side1)*(semi_perimeter-side2)*(semi_perimeter-side3)) ** 0.5\n",
    "        print('The area of the triangle is %0.2f' %area)\n",
    "        \n",
    "triangle = Triangle(3)\n",
    "triangle.inputSides()\n",
    "triangle.findArea()"
   ]
  },
  {
   "cell_type": "markdown",
   "metadata": {},
   "source": [
    "Output:\n",
    "Enter length of side 1 : 3\n",
    "Enter length of side 2 : 4\n",
    "Enter length of side 3 : 5\n",
    "The area of the triangle is 6.00"
   ]
  },
  {
   "cell_type": "markdown",
   "metadata": {},
   "source": [
    "1.2 Write a function filter_long_words() that takes a list of words and an integer n and returns the list of words that are longer than n. "
   ]
  },
  {
   "cell_type": "code",
   "execution_count": 2,
   "metadata": {},
   "outputs": [
    {
     "name": "stdout",
     "output_type": "stream",
     "text": [
      "['This', 'python']\n"
     ]
    }
   ],
   "source": [
    "#Soln:\n",
    "def filter_long_words(string,number):\n",
    "    return [word for word in string if len(word) > number]\n",
    "\n",
    "print (filter_long_words(['This', 'is', 'python'], 3))\n",
    "\n"
   ]
  },
  {
   "cell_type": "code",
   "execution_count": 3,
   "metadata": {},
   "outputs": [
    {
     "data": {
      "text/plain": [
       "['This', 'python']"
      ]
     },
     "execution_count": 3,
     "metadata": {},
     "output_type": "execute_result"
    }
   ],
   "source": [
    "#Output:\n",
    "['This', 'python']"
   ]
  },
  {
   "cell_type": "markdown",
   "metadata": {},
   "source": [
    "2.1 Write a Python program using function concept that maps list of words into a list of integers \n",
    "representing the lengths of the corresponding words. \n",
    "Hint: If a list [ ab,cde,erty] is passed on to the python function output should come as [2,3,4] \n",
    "Here 2,3 and 4 are the lengths of the words in the list. \n"
   ]
  },
  {
   "cell_type": "code",
   "execution_count": 4,
   "metadata": {},
   "outputs": [
    {
     "name": "stdout",
     "output_type": "stream",
     "text": [
      "List of words:['jdfkls', 'erteryreq', 'dfgdfghdfhf', 'ertqergegdf', 'adfgadgg']\n",
      "List of wordlength:[6, 9, 11, 11, 8]\n"
     ]
    }
   ],
   "source": [
    "#Soln\n",
    "def mapWordInteger(listOfWords):\n",
    "    listOfInts = []\n",
    " \n",
    "    for word in listOfWords:\n",
    "        listOfInts.append(len(word))\n",
    "    return listOfInts\n",
    "    \n",
    "listOfWords = ['jdfkls','erteryreq','dfgdfghdfhf','ertqergegdf','adfgadgg']\n",
    "listOfInts = mapWordInteger(listOfWords)\n",
    "\n",
    " \n",
    "print (\"List of words:\"+str(listOfWords))    \n",
    "print (\"List of wordlength:\"+str(listOfInts))"
   ]
  },
  {
   "cell_type": "markdown",
   "metadata": {},
   "source": [
    "2.2 Write a Python function which takes a character (i.e. a string of length 1) and returns True if it is a vowel, False otherwise. "
   ]
  },
  {
   "cell_type": "code",
   "execution_count": 7,
   "metadata": {},
   "outputs": [
    {
     "name": "stdout",
     "output_type": "stream",
     "text": [
      "False\n",
      "True\n",
      "False\n"
     ]
    }
   ],
   "source": [
    "def isVowel(char):\n",
    "    vowels = ('a', 'e', 'i', 'o', 'u')\n",
    "    if char not in vowels:\n",
    "        return False\n",
    "    return True\n",
    "\n",
    "print (isVowel('l'))\n",
    "print (isVowel('a'))\n",
    "print (isVowel('b'))"
   ]
  },
  {
   "cell_type": "markdown",
   "metadata": {},
   "source": [
    "Output:\n",
    "False\n",
    "True\n",
    "False"
   ]
  },
  {
   "cell_type": "code",
   "execution_count": null,
   "metadata": {},
   "outputs": [],
   "source": []
  },
  {
   "cell_type": "code",
   "execution_count": null,
   "metadata": {},
   "outputs": [],
   "source": []
  }
 ],
 "metadata": {
  "kernelspec": {
   "display_name": "Python 3",
   "language": "python",
   "name": "python3"
  },
  "language_info": {
   "codemirror_mode": {
    "name": "ipython",
    "version": 3
   },
   "file_extension": ".py",
   "mimetype": "text/x-python",
   "name": "python",
   "nbconvert_exporter": "python",
   "pygments_lexer": "ipython3",
   "version": "3.6.4"
  }
 },
 "nbformat": 4,
 "nbformat_minor": 2
}
